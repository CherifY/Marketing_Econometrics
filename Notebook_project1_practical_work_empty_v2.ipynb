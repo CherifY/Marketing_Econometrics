{
 "cells": [
  {
   "cell_type": "markdown",
   "metadata": {},
   "source": [
    "# Marketing econometrics\n",
    "## Practical work: build a RFM segmentation\n",
    "### MASTER 2 STATECO - TSE - 2022 - 2023\n",
    "\n",
    "Thibault Poissonnier"
   ]
  },
  {
   "cell_type": "code",
   "execution_count": null,
   "metadata": {},
   "outputs": [],
   "source": [
    "import numpy as np\n",
    "import pandas as pd\n",
    "import seaborn as sns"
   ]
  },
  {
   "cell_type": "code",
   "execution_count": null,
   "metadata": {},
   "outputs": [],
   "source": [
    "pd.set_option('display.max_columns', 100)\n",
    "pd.set_option('display.max_rows', 200)"
   ]
  },
  {
   "cell_type": "markdown",
   "metadata": {},
   "source": [
    "## 1. Load the data"
   ]
  },
  {
   "cell_type": "markdown",
   "metadata": {},
   "source": [
    "Import the 6 csv tables in a Jupyter notebook with Python 3 and look at the first rows of each table."
   ]
  },
  {
   "cell_type": "code",
   "execution_count": null,
   "metadata": {},
   "outputs": [],
   "source": [
    "mypath = \"Data\""
   ]
  },
  {
   "cell_type": "code",
   "execution_count": null,
   "metadata": {},
   "outputs": [],
   "source": [
    "CUSTOMER = pd.read_csv(mypath + \"\\\\CUSTOMER.csv\")\n",
    "CUSTOMER_ADDITIONAL = pd.read_csv(mypath + \"\\\\CUSTOMER_ADDITIONAL.csv\")\n",
    "PRODUCTS = pd.read_csv(mypath + \"\\\\PRODUCTS.csv\")\n",
    "RECEIPTS = pd.read_csv(mypath + \"\\\\RECEIPTS.csv\")\n",
    "REFERENTIAL = pd.read_csv(mypath + \"\\\\REFERENTIAL.csv\")\n",
    "STORE = pd.read_csv(mypath + \"\\\\STORE.csv\")"
   ]
  },
  {
   "cell_type": "code",
   "execution_count": null,
   "metadata": {},
   "outputs": [],
   "source": [
    "CUSTOMER.head()"
   ]
  },
  {
   "cell_type": "code",
   "execution_count": null,
   "metadata": {},
   "outputs": [],
   "source": [
    "CUSTOMER_ADDITIONAL.head()"
   ]
  },
  {
   "cell_type": "code",
   "execution_count": null,
   "metadata": {},
   "outputs": [],
   "source": [
    "PRODUCTS.head()"
   ]
  },
  {
   "cell_type": "code",
   "execution_count": null,
   "metadata": {},
   "outputs": [],
   "source": [
    "RECEIPTS.head()"
   ]
  },
  {
   "cell_type": "code",
   "execution_count": null,
   "metadata": {},
   "outputs": [],
   "source": [
    "REFERENTIAL.head()"
   ]
  },
  {
   "cell_type": "code",
   "execution_count": null,
   "metadata": {},
   "outputs": [],
   "source": [
    "STORE.head()"
   ]
  },
  {
   "cell_type": "markdown",
   "metadata": {},
   "source": [
    "# 2 Selection and merging of the data\n",
    "\n",
    "## 2.1 Build the CUSTOMERS_INFO table containing all the information about a customer\n",
    "\n",
    "### 2.1.1 Join the CUSTOMER’s dimensions (CUSTOMER and CUSTOMER_ADDITIONAL) in a table called CUSTOMER_INFO\n",
    "\n",
    "- Drop ID_FOYER"
   ]
  },
  {
   "cell_type": "code",
   "execution_count": null,
   "metadata": {},
   "outputs": [],
   "source": [
    "CUSTOMER.columns"
   ]
  },
  {
   "cell_type": "code",
   "execution_count": null,
   "metadata": {},
   "outputs": [],
   "source": [
    "CUSTOMER = ..."
   ]
  },
  {
   "cell_type": "markdown",
   "metadata": {},
   "source": [
    "- Keep CODE_MAGASIN and the variable used for the join in CUSTOMER_ADDITIONAL\n",
    "- Then join to CUSTOMERS table"
   ]
  },
  {
   "cell_type": "code",
   "execution_count": null,
   "metadata": {},
   "outputs": [],
   "source": [
    "CUSTOMERS_INFO = ..."
   ]
  },
  {
   "cell_type": "markdown",
   "metadata": {},
   "source": [
    "- Rename CODE_MAGASIN in MANAGING_STORE"
   ]
  },
  {
   "cell_type": "code",
   "execution_count": null,
   "metadata": {},
   "outputs": [],
   "source": [
    "CUSTOMERS_INFO ..."
   ]
  },
  {
   "cell_type": "code",
   "execution_count": null,
   "metadata": {},
   "outputs": [],
   "source": [
    "CUSTOMERS_INFO.head()"
   ]
  },
  {
   "cell_type": "markdown",
   "metadata": {},
   "source": [
    "- Check with the code below the dimensions of tables"
   ]
  },
  {
   "cell_type": "code",
   "execution_count": null,
   "metadata": {},
   "outputs": [],
   "source": [
    "CUSTOMER.shape"
   ]
  },
  {
   "cell_type": "code",
   "execution_count": null,
   "metadata": {},
   "outputs": [],
   "source": [
    "CUSTOMER_ADDITIONAL.shape"
   ]
  },
  {
   "cell_type": "code",
   "execution_count": null,
   "metadata": {},
   "outputs": [],
   "source": [
    "CUSTOMERS_INFO.shape"
   ]
  },
  {
   "cell_type": "markdown",
   "metadata": {},
   "source": [
    "The dimensions of the 3 tables are consistent: we have the same number of rows and the final table contains all the selected columns of the left table plus one coming from the right table.\n",
    "\n",
    "## 2.2 Build the RECEIPTS_INFO table containing all the information about a receipt\n",
    "\n",
    "### 2.2.1 Join the RECEIPTS’s dimensions (STORE, REFERENTIAL, PRODUCTS and RECEIPTS) in a table called RECEIPTS_INFO\n",
    "\n",
    "- Start with the join of RECEIPTS and REFERENTIAL."
   ]
  },
  {
   "cell_type": "code",
   "execution_count": null,
   "metadata": {
    "scrolled": true
   },
   "outputs": [],
   "source": [
    "RECEIPTS_INFO = ..."
   ]
  },
  {
   "cell_type": "markdown",
   "metadata": {},
   "source": [
    "Format issue on the EAN column used to merge the two tables..."
   ]
  },
  {
   "cell_type": "code",
   "execution_count": null,
   "metadata": {
    "scrolled": true
   },
   "outputs": [],
   "source": [
    "RECEIPTS.dtypes"
   ]
  },
  {
   "cell_type": "code",
   "execution_count": null,
   "metadata": {},
   "outputs": [],
   "source": [
    "REFERENTIAL.dtypes"
   ]
  },
  {
   "cell_type": "markdown",
   "metadata": {},
   "source": [
    "We decide to convert the type of `EAN`."
   ]
  },
  {
   "cell_type": "code",
   "execution_count": null,
   "metadata": {},
   "outputs": [],
   "source": [
    "RECEIPTS['EAN'] = ..."
   ]
  },
  {
   "cell_type": "markdown",
   "metadata": {},
   "source": [
    "Create RECEIPTS_INFO with tables RECEIPTS and REFERENTIAL:"
   ]
  },
  {
   "cell_type": "code",
   "execution_count": null,
   "metadata": {},
   "outputs": [],
   "source": [
    "RECEIPTS_INFO = ..."
   ]
  },
  {
   "cell_type": "code",
   "execution_count": null,
   "metadata": {},
   "outputs": [],
   "source": [
    "RECEIPTS.shape"
   ]
  },
  {
   "cell_type": "code",
   "execution_count": null,
   "metadata": {},
   "outputs": [],
   "source": [
    "REFERENTIAL.shape"
   ]
  },
  {
   "cell_type": "code",
   "execution_count": null,
   "metadata": {},
   "outputs": [],
   "source": [
    "RECEIPTS_INFO.shape"
   ]
  },
  {
   "cell_type": "markdown",
   "metadata": {},
   "source": [
    "The dimensions of the 3 tables are consistent: we have the same number of rows in the left and final table, and the final table contains all the columns of the two initial tables.\n",
    "\n",
    "- Now the join of PRODUCTS with the table created above. \n",
    "\n",
    "Keep only Ligne and Famille from PRODUCTS (and obviously the column needed for the merge). Merge this DataFrame with recently created RECEIPTS_INFO."
   ]
  },
  {
   "cell_type": "code",
   "execution_count": null,
   "metadata": {},
   "outputs": [],
   "source": [
    "PRODUCTS.head()"
   ]
  },
  {
   "cell_type": "code",
   "execution_count": null,
   "metadata": {},
   "outputs": [],
   "source": [
    "RECEIPTS_INFO = ..."
   ]
  },
  {
   "cell_type": "code",
   "execution_count": null,
   "metadata": {},
   "outputs": [],
   "source": [
    "PRODUCTS.shape"
   ]
  },
  {
   "cell_type": "code",
   "execution_count": null,
   "metadata": {},
   "outputs": [],
   "source": [
    "RECEIPTS_INFO.shape"
   ]
  },
  {
   "cell_type": "markdown",
   "metadata": {},
   "source": [
    "- Now the join of STORE with the table created above.\n",
    "\n",
    "Keep only REGIONS, CENTRE_VILLE, TYPE_MAGASIN, REGIONS_COMMERCIAL from STORE, and the variable for the merge.\n",
    "\n",
    "Merge this DataFrame with previously created RECEIPTS_INFO."
   ]
  },
  {
   "cell_type": "code",
   "execution_count": null,
   "metadata": {},
   "outputs": [],
   "source": [
    "STORE.columns"
   ]
  },
  {
   "cell_type": "code",
   "execution_count": null,
   "metadata": {},
   "outputs": [],
   "source": [
    "RECEIPTS_INFO = ..."
   ]
  },
  {
   "cell_type": "code",
   "execution_count": null,
   "metadata": {},
   "outputs": [],
   "source": [
    "STORE.shape"
   ]
  },
  {
   "cell_type": "code",
   "execution_count": null,
   "metadata": {},
   "outputs": [],
   "source": [
    "RECEIPTS_INFO.shape"
   ]
  },
  {
   "cell_type": "markdown",
   "metadata": {},
   "source": [
    "Finally we have \n",
    "\n",
    "- a CUSTOMERS_INFO table with ___ rows and ___ columns, and \n",
    "- a RECEIPTS_INFO table with ___ rows and ___ columns."
   ]
  },
  {
   "cell_type": "markdown",
   "metadata": {},
   "source": [
    "# 3 Understanding the data\n",
    "\n",
    "## 3.1 Identifying a visit"
   ]
  },
  {
   "cell_type": "markdown",
   "metadata": {},
   "source": [
    "Select all receipts information for customer 174591."
   ]
  },
  {
   "cell_type": "code",
   "execution_count": null,
   "metadata": {},
   "outputs": [],
   "source": [
    "RECEIPTS_174591 = ..."
   ]
  },
  {
   "cell_type": "code",
   "execution_count": null,
   "metadata": {},
   "outputs": [],
   "source": [
    "RECEIPTS_174591.shape"
   ]
  },
  {
   "cell_type": "code",
   "execution_count": null,
   "metadata": {},
   "outputs": [],
   "source": [
    "RECEIPTS_174591.sort_values(\"DATE_ACHAT\").head(20)"
   ]
  },
  {
   "cell_type": "markdown",
   "metadata": {},
   "source": [
    "Deduce from the analysis of the customer 174591 a rule for identifying a store visit, which corresponds to a unique purchase ticket (ticket de caisse in French): it seems like we need to use the information of `NUM_TICKET`. However, looking at the rows of this customer, is it enough? Can we use other variables to make sure we only consider unique visits, ie. unique purchase tickets?\n",
    "\n",
    "_Answer:_ ..."
   ]
  },
  {
   "cell_type": "markdown",
   "metadata": {},
   "source": [
    "## 3.2 Audit and analysis of the consistency of variables\n",
    "\n",
    "### 3.2.1 Analyze variables in RECEIPTS_INFO\n",
    "\n",
    "Here is the list of variables that we will analyze. There are other features that we won't analyze now, but that can be mentioned in the oral presentation (not mandatory !)"
   ]
  },
  {
   "cell_type": "code",
   "execution_count": null,
   "metadata": {},
   "outputs": [],
   "source": [
    "list_var = [\"REGIONS\", \"CENTRE_VILLE\", \"TYPE_MAGASIN\", \"REGIONS_COMMERCIAL\", \"MODELE\", \n",
    "            \"Ligne\", \"Famille\", \"EAN\", \"PRIX_AP_REMISE\", \"QUANTITE\", \"REMISE_VALEUR\"]"
   ]
  },
  {
   "cell_type": "markdown",
   "metadata": {},
   "source": [
    "- There are many different ways to analyze a dataset, but we can take a quick glance at the data with the `describe` pandas function:"
   ]
  },
  {
   "cell_type": "code",
   "execution_count": null,
   "metadata": {},
   "outputs": [],
   "source": [
    "RECEIPTS_INFO ..."
   ]
  },
  {
   "cell_type": "code",
   "execution_count": null,
   "metadata": {},
   "outputs": [],
   "source": [
    "RECEIPTS_INFO.shape"
   ]
  },
  {
   "cell_type": "markdown",
   "metadata": {},
   "source": [
    "Using the results just above, we can remark several things (just remarks, don't change data now):\n",
    "\n",
    "- About missing values:\n",
    "- About EAN:\n",
    "- Abut PRIX_AP_REMISE:\n",
    "- About REMISE_VALEUR:\n",
    "\n",
    "---\n",
    "\n",
    "With the help of the `value_counts` and `crosstab` functions, we will specifically analyze some variables one by one. Unless specified otherwise, we will mention every variable we want to conduct specific analyses on.\n",
    "\n",
    "- Analyze `CODE_LIGNE` and `TYPE_LIGNE`: are these variables useful?"
   ]
  },
  {
   "cell_type": "code",
   "execution_count": null,
   "metadata": {},
   "outputs": [],
   "source": [
    "RECEIPTS_INFO[\"CODE_LIGNE\"] ..."
   ]
  },
  {
   "cell_type": "code",
   "execution_count": null,
   "metadata": {},
   "outputs": [],
   "source": [
    "RECEIPTS_INFO[\"TYPE_LIGNE\"] ..."
   ]
  },
  {
   "cell_type": "markdown",
   "metadata": {},
   "source": [
    "- Analyze `CENTRE_VILLE`: what operation can we perform?"
   ]
  },
  {
   "cell_type": "code",
   "execution_count": null,
   "metadata": {},
   "outputs": [],
   "source": [
    "RECEIPTS_INFO[\"CENTRE_VILLE\"] ..."
   ]
  },
  {
   "cell_type": "markdown",
   "metadata": {},
   "source": [
    "- Analyze `REGIONS` and `REGIONS_COMMERCIAL`: what can we see?"
   ]
  },
  {
   "cell_type": "code",
   "execution_count": null,
   "metadata": {},
   "outputs": [],
   "source": [
    "RECEIPTS_INFO['REGIONS_COMMERCIAL'] ..."
   ]
  },
  {
   "cell_type": "code",
   "execution_count": null,
   "metadata": {},
   "outputs": [],
   "source": [
    "RECEIPTS_INFO['REGIONS'] ..."
   ]
  },
  {
   "cell_type": "markdown",
   "metadata": {},
   "source": [
    "- Analyze `REMISE_VALEUR` with Seaborn distplot and its modalities: what can we see?"
   ]
  },
  {
   "cell_type": "code",
   "execution_count": null,
   "metadata": {},
   "outputs": [],
   "source": [
    "sns.distplot ..."
   ]
  },
  {
   "cell_type": "code",
   "execution_count": null,
   "metadata": {},
   "outputs": [],
   "source": [
    "RECEIPTS_INFO[\"REMISE_VALEUR\"] ..."
   ]
  },
  {
   "cell_type": "markdown",
   "metadata": {},
   "source": [
    "- Analyze missing data for the `Ligne` variable: select a specific individual with missing values."
   ]
  },
  {
   "cell_type": "code",
   "execution_count": null,
   "metadata": {},
   "outputs": [],
   "source": [
    "RECEIPTS_INFO ..."
   ]
  },
  {
   "cell_type": "code",
   "execution_count": null,
   "metadata": {},
   "outputs": [],
   "source": [
    "RECEIPTS_INFO[RECEIPTS_INFO.ID_INDIVIDU == ...].head(10)"
   ]
  },
  {
   "cell_type": "markdown",
   "metadata": {},
   "source": [
    "All missing values for this column can not be deduced with a single rule. Based on the analysis of the `Ligne`, `MODELE` and `REMISE_VALEUR`, can we find an interesting pattern? This pattern will be useful for future data management rules, so be careful.\n",
    "\n",
    "...\n",
    "\n",
    "- Focus on the `MODELE` variable and especially on the modalities ACCES, DIVE, DIVERS, FAVO, FAVORI, PACK, PLV (Pub sur Lieu de Vente)"
   ]
  },
  {
   "cell_type": "code",
   "execution_count": null,
   "metadata": {},
   "outputs": [],
   "source": [
    "RECEIPTS_INFO[\"MODELE\"] ..."
   ]
  },
  {
   "cell_type": "markdown",
   "metadata": {},
   "source": [
    "Can we deduce another rule to identify specific gifts for customers?\n",
    "\n",
    "...\n",
    "\n",
    "### 3.2.2 Analyze variables in CUSTOMERS_INFO"
   ]
  },
  {
   "cell_type": "code",
   "execution_count": null,
   "metadata": {},
   "outputs": [],
   "source": [
    "CUSTOMERS_INFO.head()"
   ]
  },
  {
   "cell_type": "code",
   "execution_count": null,
   "metadata": {},
   "outputs": [],
   "source": [
    "CUSTOMERS_INFO.dtypes"
   ]
  },
  {
   "cell_type": "markdown",
   "metadata": {},
   "source": [
    "- Find a way to compute the age of the customer.\n",
    "\n",
    "Be careful with the year you compute the age with!\n",
    "\n",
    "Are there any outliers?"
   ]
  },
  {
   "cell_type": "code",
   "execution_count": null,
   "metadata": {},
   "outputs": [],
   "source": [
    "YEAR_BIRTH = ...\n",
    "AGE = ..."
   ]
  },
  {
   "cell_type": "code",
   "execution_count": null,
   "metadata": {},
   "outputs": [],
   "source": [
    "sns.distplot(AGE)"
   ]
  },
  {
   "cell_type": "markdown",
   "metadata": {},
   "source": [
    "- Compute the seniority of the customer (years after creation of the loyalty card)."
   ]
  },
  {
   "cell_type": "code",
   "execution_count": null,
   "metadata": {},
   "outputs": [],
   "source": [
    "YEAR_CREATION = ...\n",
    "SENIORITY = ..."
   ]
  },
  {
   "cell_type": "code",
   "execution_count": null,
   "metadata": {},
   "outputs": [],
   "source": [
    "sns.distplot(SENIORITY)"
   ]
  },
  {
   "cell_type": "code",
   "execution_count": null,
   "metadata": {},
   "outputs": [],
   "source": [
    "SENIORITY.describe()"
   ]
  },
  {
   "cell_type": "code",
   "execution_count": null,
   "metadata": {},
   "outputs": [],
   "source": [
    "SENIORITY.unique()"
   ]
  },
  {
   "cell_type": "markdown",
   "metadata": {},
   "source": [
    "Are there any outliers?"
   ]
  },
  {
   "cell_type": "markdown",
   "metadata": {},
   "source": [
    "# 4 Data preparation: cleaning and creation of indicators\n",
    "\n",
    "- Are there any columns we need to change the format for?\n",
    "- How can we identify gifts? (We will specifically identify PLV (\"Promotion en Lieu de Vente\") and separate them from gifts.)\n",
    "- What is a logical way to compute the final price of a row?\n",
    "- Can we group modalities for `CENTRE_VILLE` (this new modality can be named \"Shopping center\" for instance, and the rest \"City center\")?\n",
    "- Between `REGIONS_COMMERCIAL`, `REGIONS`, which one should be kept?\n",
    "\n",
    "\n",
    "- Compute the age and replace < 15 and > 90 years old by null (done in exercise 4).\n",
    "- Seniority > 10 replaced by null (done in exercise 4).\n",
    "\n",
    "Most of the necessary modifications will need to be filled in in the code below.\n",
    "\n",
    "## 4.1 Data preparation of RECEIPTS_INFO\n",
    "\n",
    "### 4.1.1 Handle DATE_ACHAT"
   ]
  },
  {
   "cell_type": "code",
   "execution_count": null,
   "metadata": {},
   "outputs": [],
   "source": [
    "RECEIPTS_INFO_OK = RECEIPTS_INFO.copy()"
   ]
  },
  {
   "cell_type": "code",
   "execution_count": null,
   "metadata": {},
   "outputs": [],
   "source": [
    "RECEIPTS_INFO_OK[\"DATE_ACHAT\"] = ..."
   ]
  },
  {
   "cell_type": "markdown",
   "metadata": {},
   "source": [
    "### 4.1.2 Identify Gifts and PLV"
   ]
  },
  {
   "cell_type": "code",
   "execution_count": null,
   "metadata": {},
   "outputs": [],
   "source": [
    "RECEIPTS_INFO_OK[\"TOP_GIFT\"] = ...\n",
    "\n",
    "RECEIPTS_INFO_OK[\"TOP_PLV\"] = ..."
   ]
  },
  {
   "cell_type": "code",
   "execution_count": null,
   "metadata": {},
   "outputs": [],
   "source": [
    "sum(RECEIPTS_INFO_OK[\"TOP_GIFT\"])"
   ]
  },
  {
   "cell_type": "markdown",
   "metadata": {},
   "source": [
    "### 4.1.3 Compute Price"
   ]
  },
  {
   "cell_type": "code",
   "execution_count": null,
   "metadata": {},
   "outputs": [],
   "source": [
    "RECEIPTS_INFO_OK[\"PRICE\"] = ..."
   ]
  },
  {
   "cell_type": "markdown",
   "metadata": {},
   "source": [
    "### 4.1.4 Handle Centre Ville"
   ]
  },
  {
   "cell_type": "code",
   "execution_count": null,
   "metadata": {},
   "outputs": [],
   "source": [
    "RECEIPTS_INFO_OK[\"CENTRE_VILLE\"] = ..."
   ]
  },
  {
   "cell_type": "code",
   "execution_count": null,
   "metadata": {},
   "outputs": [],
   "source": [
    "RECEIPTS_INFO_OK['CENTRE_VILLE'].unique()"
   ]
  },
  {
   "cell_type": "markdown",
   "metadata": {},
   "source": [
    "### 4.1.5 Indicators calculation - scope\n",
    "\n",
    "Filter on the last 12 months available."
   ]
  },
  {
   "cell_type": "code",
   "execution_count": null,
   "metadata": {},
   "outputs": [],
   "source": [
    "RECEIPTS_INFO_OK[\"DATE_ACHAT\"].min()"
   ]
  },
  {
   "cell_type": "code",
   "execution_count": null,
   "metadata": {},
   "outputs": [],
   "source": [
    "RECEIPTS_INFO_OK[\"DATE_ACHAT\"].max()"
   ]
  },
  {
   "cell_type": "code",
   "execution_count": null,
   "metadata": {},
   "outputs": [],
   "source": [
    "min_date_RFM = ...\n",
    "max_date_RFM = ..."
   ]
  },
  {
   "cell_type": "code",
   "execution_count": null,
   "metadata": {},
   "outputs": [],
   "source": [
    "RECEIPTS_INFO_RFM = ..."
   ]
  },
  {
   "cell_type": "code",
   "execution_count": null,
   "metadata": {},
   "outputs": [],
   "source": [
    "RECEIPTS_INFO_RFM.DATE_ACHAT.min()"
   ]
  },
  {
   "cell_type": "code",
   "execution_count": null,
   "metadata": {},
   "outputs": [],
   "source": [
    "RECEIPTS_INFO_RFM.DATE_ACHAT.max()"
   ]
  },
  {
   "cell_type": "markdown",
   "metadata": {},
   "source": [
    "### 4.1.6 Compute Monetary Value per visit and the Average Price\n",
    "\n",
    "For each visit (see 3.1 to properly identify 1 visit), compute the number of products sold and the monetary value (sum of the products prices).\n",
    "\n",
    "Average price per visit should be easy to compute."
   ]
  },
  {
   "cell_type": "code",
   "execution_count": null,
   "metadata": {},
   "outputs": [],
   "source": [
    "VISIT_VALUE = ..."
   ]
  },
  {
   "cell_type": "code",
   "execution_count": null,
   "metadata": {},
   "outputs": [],
   "source": [
    "VISIT_VALUE[\"AVG_PRICE\"] = ..."
   ]
  },
  {
   "cell_type": "code",
   "execution_count": null,
   "metadata": {},
   "outputs": [],
   "source": [
    "VISIT_VALUE.head()"
   ]
  },
  {
   "cell_type": "markdown",
   "metadata": {},
   "source": [
    "### 4.1.7 Calculate FREQUENCY per individual (from the precedent table per visit)\n",
    "\n",
    "In addition to frequency, compute average of monetary value per visit, sum of monetary value per visit, and average of quantities."
   ]
  },
  {
   "cell_type": "code",
   "execution_count": null,
   "metadata": {},
   "outputs": [],
   "source": [
    "FREQUENCY = ..."
   ]
  },
  {
   "cell_type": "code",
   "execution_count": null,
   "metadata": {},
   "outputs": [],
   "source": [
    "FREQUENCY.head()"
   ]
  },
  {
   "cell_type": "markdown",
   "metadata": {},
   "source": [
    "### 4.1.8 Calculate RECENCY per individual\n",
    "\n",
    "First compute last date of purchase for each individual."
   ]
  },
  {
   "cell_type": "code",
   "execution_count": null,
   "metadata": {},
   "outputs": [],
   "source": [
    "RECENCY = ..."
   ]
  },
  {
   "cell_type": "code",
   "execution_count": null,
   "metadata": {},
   "outputs": [],
   "source": [
    "RECENCY.head()"
   ]
  },
  {
   "cell_type": "markdown",
   "metadata": {},
   "source": [
    "Recency can now be computed:"
   ]
  },
  {
   "cell_type": "code",
   "execution_count": null,
   "metadata": {},
   "outputs": [],
   "source": [
    "RECENCY[\"RECENCY\"] = ..."
   ]
  },
  {
   "cell_type": "code",
   "execution_count": null,
   "metadata": {},
   "outputs": [],
   "source": [
    "RECENCY.head()"
   ]
  },
  {
   "cell_type": "markdown",
   "metadata": {},
   "source": [
    "### 4.1.9 Diversification in terms of stores, lines and families\n",
    "\n",
    "You can now count distinct number of stores, lines and families for each individual.\n",
    "\n",
    "For stores, PLV should be excluded.\n",
    "\n",
    "For lines and families, PLV, FAVO and FAVORI should be excluded."
   ]
  },
  {
   "cell_type": "code",
   "execution_count": null,
   "metadata": {},
   "outputs": [],
   "source": [
    "DIVERS_STORE = ...\n",
    "\n",
    "DIVERS_STORE.columns = ['ID_INDIVIDU', 'NB_STORES']"
   ]
  },
  {
   "cell_type": "code",
   "execution_count": null,
   "metadata": {},
   "outputs": [],
   "source": [
    "DIVERS_LINE = ...\n",
    "\n",
    "DIVERS_LINE.columns = ['ID_INDIVIDU', 'NB_LINES']"
   ]
  },
  {
   "cell_type": "code",
   "execution_count": null,
   "metadata": {},
   "outputs": [],
   "source": [
    "DIVERS_FAM = ...\n",
    "\n",
    "DIVERS_FAM.columns = ['ID_INDIVIDU', 'NB_FAMILIES']"
   ]
  },
  {
   "cell_type": "markdown",
   "metadata": {},
   "source": [
    "### 4.1.10 Number of gifts"
   ]
  },
  {
   "cell_type": "code",
   "execution_count": null,
   "metadata": {},
   "outputs": [],
   "source": [
    "NB_GIFTS = ...\n",
    "\n",
    "NB_GIFTS.columns = ['ID_INDIVIDU', 'NB_GIFTS']"
   ]
  },
  {
   "cell_type": "markdown",
   "metadata": {},
   "source": [
    "### 4.1.11 Share of visits in the managing store\n",
    "\n",
    "Join VISIT_VALUE and customers information."
   ]
  },
  {
   "cell_type": "code",
   "execution_count": null,
   "metadata": {},
   "outputs": [],
   "source": [
    "MANAGING_STORE = ..."
   ]
  },
  {
   "cell_type": "markdown",
   "metadata": {},
   "source": [
    "Create a column to see if the store of purchase is the same as the managing store."
   ]
  },
  {
   "cell_type": "code",
   "execution_count": null,
   "metadata": {},
   "outputs": [],
   "source": [
    "MANAGING_STORE[\"TOP_MANAGING_STORE\"] = ..."
   ]
  },
  {
   "cell_type": "code",
   "execution_count": null,
   "metadata": {},
   "outputs": [],
   "source": [
    "MANAGING_STORE.tail()"
   ]
  },
  {
   "cell_type": "markdown",
   "metadata": {},
   "source": [
    "Then compute the share of visits made in the managing store:"
   ]
  },
  {
   "cell_type": "code",
   "execution_count": null,
   "metadata": {},
   "outputs": [],
   "source": [
    "SHARE_MANAGING_STORE = ...\n",
    "SHARE_MANAGING_STORE.columns = ['ID_INDIVIDU', 'SHARE_MANAGING_STORE']"
   ]
  },
  {
   "cell_type": "markdown",
   "metadata": {},
   "source": [
    "Surprising to have customers with 0% of their visits in their managing store during the last year... "
   ]
  },
  {
   "cell_type": "code",
   "execution_count": null,
   "metadata": {},
   "outputs": [],
   "source": [
    "MANAGING_STORE[MANAGING_STORE.ID_INDIVIDU == 99]"
   ]
  },
  {
   "cell_type": "markdown",
   "metadata": {},
   "source": [
    "## 4.2 Data preparation of CUSTOMERS_INFO\n",
    "\n",
    "### 4.2.1 Age"
   ]
  },
  {
   "cell_type": "code",
   "execution_count": null,
   "metadata": {},
   "outputs": [],
   "source": [
    "CUSTOMERS_INFO_OK = CUSTOMERS_INFO.copy()\n",
    "CUSTOMERS_INFO_OK.head()"
   ]
  },
  {
   "cell_type": "code",
   "execution_count": null,
   "metadata": {},
   "outputs": [],
   "source": [
    "CUSTOMERS_INFO_OK[\"BIRTH_YEAR\"] = ...\n",
    "CUSTOMERS_INFO_OK[\"BIRTH_MONTH\"] = ...\n",
    "CUSTOMERS_INFO_OK[\"BIRTH_DAY\"] = ..."
   ]
  },
  {
   "cell_type": "markdown",
   "metadata": {},
   "source": [
    "With year, month and day, you can now create a date in the right pandas type:"
   ]
  },
  {
   "cell_type": "code",
   "execution_count": null,
   "metadata": {},
   "outputs": [],
   "source": [
    "CUSTOMERS_INFO_OK[\"BIRTH_DATE\"] = ..."
   ]
  },
  {
   "cell_type": "markdown",
   "metadata": {},
   "source": [
    "Create the age column:"
   ]
  },
  {
   "cell_type": "code",
   "execution_count": null,
   "metadata": {},
   "outputs": [],
   "source": [
    "CUSTOMERS_INFO_OK[\"AGE\"] = ..."
   ]
  },
  {
   "cell_type": "markdown",
   "metadata": {},
   "source": [
    "Create missing values when age < 15 or age > 90:"
   ]
  },
  {
   "cell_type": "code",
   "execution_count": null,
   "metadata": {},
   "outputs": [],
   "source": [
    "CUSTOMERS_INFO_OK[\"AGE\"] = ..."
   ]
  },
  {
   "cell_type": "markdown",
   "metadata": {},
   "source": [
    "### 4.2.2 Seniority\n",
    "\n",
    "Convert `DATE_CREATION_CARTE` to the right type:"
   ]
  },
  {
   "cell_type": "code",
   "execution_count": null,
   "metadata": {},
   "outputs": [],
   "source": [
    "CUSTOMERS_INFO_OK[\"DATE_CREATION_CARTE\"] = ..."
   ]
  },
  {
   "cell_type": "markdown",
   "metadata": {},
   "source": [
    "Create the seniority column:"
   ]
  },
  {
   "cell_type": "code",
   "execution_count": null,
   "metadata": {},
   "outputs": [],
   "source": [
    "# Seniority in months\n",
    "CUSTOMERS_INFO_OK[\"SENIORITY\"] = ..."
   ]
  },
  {
   "cell_type": "markdown",
   "metadata": {},
   "source": [
    "Create missing values when seniority is bigger than 10 years, and clip negative values to 0:"
   ]
  },
  {
   "cell_type": "code",
   "execution_count": null,
   "metadata": {},
   "outputs": [],
   "source": [
    "CUSTOMERS_INFO_OK[\"SENIORITY\"] ..."
   ]
  },
  {
   "cell_type": "code",
   "execution_count": null,
   "metadata": {},
   "outputs": [],
   "source": [
    "CUSTOMERS_INFO_OK[[\"SENIORITY\"]].describe()"
   ]
  },
  {
   "cell_type": "markdown",
   "metadata": {},
   "source": [
    "## 4.3 Gather all features in a MASTER table (at the individual level)\n",
    "\n",
    "### 4.3.1 Joins\n",
    "\n",
    "From table CUSTOMERS_INFO_OK created below, keep `ID_INDIVIDU`, `CIVILITE`, `SEXE`, `PROFESSION`, `CATEGORIE_PROF`, `DATE_CREATION_CARTE`, `MANAGING_STORE`, `AGE`, `SENIORITY`.\n",
    "\n",
    "Join with `SHARE_MANAGING_STORE`, `NB_GIFTS`, `DIVERS_STORE`, `DIVERS_LINE`, `DIVERS_FAM`, `RECENCY`, `FREQUENCY`."
   ]
  },
  {
   "cell_type": "code",
   "execution_count": null,
   "metadata": {},
   "outputs": [],
   "source": [
    "MASTER = ..."
   ]
  },
  {
   "cell_type": "code",
   "execution_count": null,
   "metadata": {},
   "outputs": [],
   "source": [
    "MASTER.head()"
   ]
  },
  {
   "cell_type": "markdown",
   "metadata": {},
   "source": [
    "### 4.3.2 Individuals without receipts\n",
    "\n",
    "A lot of customers have missing values concerning the purchase features. Check that they are indeed not present in the receipts table from the beginning:"
   ]
  },
  {
   "cell_type": "code",
   "execution_count": null,
   "metadata": {},
   "outputs": [],
   "source": [
    "RECEIPTS_INFO[RECEIPTS_INFO.ID_INDIVIDU == ...]"
   ]
  },
  {
   "cell_type": "markdown",
   "metadata": {},
   "source": [
    "Indeed, these customers have no receipts so we are not going to consider them in the RFM segmentation. They can be prospects, inactive customers (last purchase <1 year) or very recent customer (last purchase > 30/11/2016)."
   ]
  },
  {
   "cell_type": "markdown",
   "metadata": {},
   "source": [
    "For the RFM segmentation we exclude inactive customers on the year of study."
   ]
  },
  {
   "cell_type": "code",
   "execution_count": null,
   "metadata": {},
   "outputs": [],
   "source": [
    "MASTER_RFM = ..."
   ]
  },
  {
   "cell_type": "markdown",
   "metadata": {},
   "source": [
    "Fill missing values with 0 for adequate columns:"
   ]
  },
  {
   "cell_type": "code",
   "execution_count": null,
   "metadata": {},
   "outputs": [],
   "source": [
    "for col in ...:\n",
    "    MASTER_RFM ..."
   ]
  },
  {
   "cell_type": "markdown",
   "metadata": {},
   "source": [
    "# 5 Creation of the \"RFM\" segmentation\n",
    "\n",
    "## 5.1 Distribution of Monetary value\n",
    "\n",
    "Use `describe` and `distplot`."
   ]
  },
  {
   "cell_type": "code",
   "execution_count": null,
   "metadata": {},
   "outputs": [],
   "source": [
    "MASTER_RFM.CUMUL_VALUE ..."
   ]
  },
  {
   "cell_type": "markdown",
   "metadata": {},
   "source": [
    "We have customers with a 0 cumulative value. Let's look at them."
   ]
  },
  {
   "cell_type": "code",
   "execution_count": null,
   "metadata": {},
   "outputs": [],
   "source": [
    "MASTER_RFM ..."
   ]
  },
  {
   "cell_type": "code",
   "execution_count": null,
   "metadata": {},
   "outputs": [],
   "source": [
    "RECEIPTS_INFO_RFM[RECEIPTS_INFO_RFM.ID_INDIVIDU == ...]"
   ]
  },
  {
   "cell_type": "markdown",
   "metadata": {},
   "source": [
    "This customer came only for gifts..."
   ]
  },
  {
   "cell_type": "code",
   "execution_count": null,
   "metadata": {},
   "outputs": [],
   "source": [
    "len(MASTER_RFM[MASTER_RFM.CUMUL_VALUE == 0])"
   ]
  },
  {
   "cell_type": "markdown",
   "metadata": {},
   "source": [
    "Few customers are concerned. We drop them of the MASTER_RFM table."
   ]
  },
  {
   "cell_type": "code",
   "execution_count": null,
   "metadata": {},
   "outputs": [],
   "source": [
    "MASTER_RFM = ..."
   ]
  },
  {
   "cell_type": "code",
   "execution_count": null,
   "metadata": {},
   "outputs": [],
   "source": [
    "len(MASTER_RFM)"
   ]
  },
  {
   "cell_type": "markdown",
   "metadata": {},
   "source": [
    "## 5.2 Distribution of Frequency"
   ]
  },
  {
   "cell_type": "code",
   "execution_count": null,
   "metadata": {},
   "outputs": [],
   "source": [
    "MASTER_RFM.NB_VISITS ..."
   ]
  },
  {
   "cell_type": "markdown",
   "metadata": {},
   "source": [
    "## 5.3 Distribution of Recency"
   ]
  },
  {
   "cell_type": "code",
   "execution_count": null,
   "metadata": {},
   "outputs": [],
   "source": [
    "MASTER_RFM.RECENCY ..."
   ]
  },
  {
   "cell_type": "markdown",
   "metadata": {},
   "source": [
    "Recall that we only look at 1 year of purchase history for customers. If the seniority is less than 1 year, what kind of customers are they? We want to create a variable to identify them:"
   ]
  },
  {
   "cell_type": "code",
   "execution_count": null,
   "metadata": {},
   "outputs": [],
   "source": [
    "# XXX customer if seniority <= 1 year\n",
    "MASTER_RFM[\"TOP_XXX\"] = ..."
   ]
  },
  {
   "cell_type": "markdown",
   "metadata": {},
   "source": [
    "## 5.4 Determine thresholds in order to split them in low/medium/high groups"
   ]
  },
  {
   "cell_type": "code",
   "execution_count": null,
   "metadata": {},
   "outputs": [],
   "source": [
    "..."
   ]
  },
  {
   "cell_type": "markdown",
   "metadata": {},
   "source": [
    "So we can propose the following thresholds:\n",
    "\n",
    "MONETARY VALUE:\n",
    "- low if less than x€ \n",
    "- medium if between x€ and x€\n",
    "- high if more than x€\n",
    "\n",
    "FREQUENCY:\n",
    "- low if x visit on the period\n",
    "- medium if x visits on the period\n",
    "- high if x visits or more on the period\n",
    "\n",
    "RECENCY: \n",
    "- low if last purchase more than x months ago (x days)\n",
    "- medium if last purchase between x and x months ago\n",
    "- high if last purchase less than x months ago (x days)"
   ]
  },
  {
   "cell_type": "code",
   "execution_count": null,
   "metadata": {},
   "outputs": [],
   "source": [
    "min_recency = ...\n",
    "max_recency = ...\n",
    "min_frequency = ...\n",
    "max_frequency = ...\n",
    "min_money = ...\n",
    "max_money = ..."
   ]
  },
  {
   "cell_type": "markdown",
   "metadata": {},
   "source": [
    "Create new / high / med / low levels for the 3 indicators:"
   ]
  },
  {
   "cell_type": "code",
   "execution_count": null,
   "metadata": {},
   "outputs": [],
   "source": [
    "MASTER_RFM[\"RECENCY_level\"] = ..."
   ]
  },
  {
   "cell_type": "code",
   "execution_count": null,
   "metadata": {},
   "outputs": [],
   "source": [
    "MASTER_RFM[\"FREQUENCY_level\"] = ..."
   ]
  },
  {
   "cell_type": "code",
   "execution_count": null,
   "metadata": {},
   "outputs": [],
   "source": [
    "MASTER_RFM[\"MONEY_level\"] = ..."
   ]
  },
  {
   "cell_type": "markdown",
   "metadata": {},
   "source": [
    "Check that the Low/Medium/High classes are quite well balanced. If not, try to change the thresholds."
   ]
  },
  {
   "cell_type": "code",
   "execution_count": null,
   "metadata": {},
   "outputs": [],
   "source": [
    "... \"RECENCY_level\" ..."
   ]
  },
  {
   "cell_type": "code",
   "execution_count": null,
   "metadata": {},
   "outputs": [],
   "source": [
    "... \"FREQUENCY_level\" ..."
   ]
  },
  {
   "cell_type": "code",
   "execution_count": null,
   "metadata": {},
   "outputs": [],
   "source": [
    "... \"MONEY_level\" ..."
   ]
  },
  {
   "cell_type": "markdown",
   "metadata": {},
   "source": [
    "Create FM segmentation based on splits seen in class:\n",
    "\n",
    "You can start by creating boolean vectors based on recency / frequency / money."
   ]
  },
  {
   "cell_type": "code",
   "execution_count": null,
   "metadata": {},
   "outputs": [],
   "source": [
    "cond_LowFM = ...\n",
    "cond_MediumFM = ...\n",
    "cond_HighFM = ..."
   ]
  },
  {
   "cell_type": "markdown",
   "metadata": {},
   "source": [
    "Create FM segmentation:"
   ]
  },
  {
   "cell_type": "code",
   "execution_count": null,
   "metadata": {},
   "outputs": [],
   "source": [
    "MASTER_RFM[\"FM_SEG\"] = np.where(MASTER_RFM.TOP_NEW, 'New',\n",
    "                                np.where(cond_LowFM, 'Low',\n",
    "                                         np.where(cond_HighFM, 'High', \n",
    "                                                  'Medium')))"
   ]
  },
  {
   "cell_type": "code",
   "execution_count": null,
   "metadata": {},
   "outputs": [],
   "source": [
    "MASTER_RFM[[\"FM_SEG\", \"ID_INDIVIDU\"]].groupby(\"FM_SEG\").count()"
   ]
  },
  {
   "cell_type": "code",
   "execution_count": null,
   "metadata": {},
   "outputs": [],
   "source": [
    "MASTER_RFM[[\"FM_SEG\", \"ID_INDIVIDU\"]].count()"
   ]
  },
  {
   "cell_type": "markdown",
   "metadata": {},
   "source": [
    "Create RFM segmentation based on splits seen in class:\n",
    "\n",
    "You can start by creating boolean vectors based on recency / frequency / money."
   ]
  },
  {
   "cell_type": "code",
   "execution_count": null,
   "metadata": {},
   "outputs": [],
   "source": [
    "cond_... = ...\n",
    "cond_... = ...\n",
    "cond_... = ...\n",
    "cond_... = ...\n",
    "cond_... = ..."
   ]
  },
  {
   "cell_type": "code",
   "execution_count": null,
   "metadata": {},
   "outputs": [],
   "source": [
    "MASTER_RFM[\"RFM_SEG\"] = ..."
   ]
  },
  {
   "cell_type": "code",
   "execution_count": null,
   "metadata": {},
   "outputs": [],
   "source": [
    "MASTER_RFM[[\"RFM_SEG\", \"ID_INDIVIDU\"]].groupby(\"RFM_SEG\").count()"
   ]
  },
  {
   "cell_type": "markdown",
   "metadata": {},
   "source": [
    "# 6 Main insights"
   ]
  },
  {
   "cell_type": "markdown",
   "metadata": {},
   "source": [
    "To do for the project"
   ]
  },
  {
   "cell_type": "code",
   "execution_count": null,
   "metadata": {},
   "outputs": [],
   "source": []
  },
  {
   "cell_type": "markdown",
   "metadata": {},
   "source": [
    "# 7 Migration across time"
   ]
  },
  {
   "cell_type": "markdown",
   "metadata": {},
   "source": [
    "To do for the project"
   ]
  },
  {
   "cell_type": "code",
   "execution_count": null,
   "metadata": {},
   "outputs": [],
   "source": []
  }
 ],
 "metadata": {
  "kernelspec": {
   "display_name": "Python 3",
   "language": "python",
   "name": "python3"
  },
  "language_info": {
   "codemirror_mode": {
    "name": "ipython",
    "version": 3
   },
   "file_extension": ".py",
   "mimetype": "text/x-python",
   "name": "python",
   "nbconvert_exporter": "python",
   "pygments_lexer": "ipython3",
   "version": "3.6.8"
  }
 },
 "nbformat": 4,
 "nbformat_minor": 4
}
